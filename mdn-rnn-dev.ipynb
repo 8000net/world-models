{
 "cells": [
  {
   "cell_type": "code",
   "execution_count": 1,
   "metadata": {},
   "outputs": [
    {
     "data": {
      "text/plain": [
       "(2, 1, 35)"
      ]
     },
     "execution_count": 1,
     "metadata": {},
     "output_type": "execute_result"
    }
   ],
   "source": [
    "import numpy as np\n",
    "\n",
    "# Generate \"test\" data\n",
    "z_dim = 32\n",
    "a_dim = 3\n",
    "input_dim = z_dim + a_dim\n",
    "\n",
    "z_t0 = np.ones((1, z_dim))\n",
    "z_t1 = np.ones((1, z_dim))\n",
    "z_t2 = np.ones((1, z_dim))\n",
    "\n",
    "a_t0 = np.ones((1, 3))\n",
    "a_t1 = np.ones((1, 3))\n",
    "a_t2 = np.ones((1, 3))\n",
    "\n",
    "za_t0 = np.hstack([z_t0, a_t0])\n",
    "za_t1 = np.hstack([z_t1, a_t1])\n",
    "\n",
    "X = np.vstack([za_t0, za_t1])\n",
    "Y = np.vstack([z_t1, z_t1])\n",
    "\n",
    "X = np.expand_dims(X, axis=1)\n",
    "X.shape"
   ]
  },
  {
   "cell_type": "code",
   "execution_count": 2,
   "metadata": {},
   "outputs": [
    {
     "name": "stderr",
     "output_type": "stream",
     "text": [
      "/home/justin/.local/lib/python3.6/site-packages/h5py/__init__.py:34: FutureWarning: Conversion of the second argument of issubdtype from `float` to `np.floating` is deprecated. In future, it will be treated as `np.float64 == np.dtype(float).type`.\n",
      "  from ._conv import register_converters as _register_converters\n",
      "Using TensorFlow backend.\n"
     ]
    },
    {
     "name": "stdout",
     "output_type": "stream",
     "text": [
      "Epoch 1/1\n",
      "2/2 [==============================] - 1s 259ms/step - loss: 1.4260\n"
     ]
    },
    {
     "data": {
      "text/plain": [
       "<keras.callbacks.History at 0x7f885735e860>"
      ]
     },
     "execution_count": 2,
     "metadata": {},
     "output_type": "execute_result"
    }
   ],
   "source": [
    "# https://worldmodels.github.io/\n",
    "# https://arxiv.org/abs/1704.03477\n",
    "# http://blog.otoro.net/2015/11/24/mixture-density-networks-with-tensorflow/\n",
    "\n",
    "\"\"\"\n",
    "TODO:\n",
    "    - reset LSTM states between sequences\n",
    "    - handle batches\n",
    "    - teacher forcing\n",
    "    - kl loss\n",
    "\n",
    "X - z_0 + a_0\n",
    "Y - z_1\n",
    "\"\"\"\n",
    "    \n",
    "import math\n",
    "\n",
    "import tensorflow as tf \n",
    "from keras.layers import Input, LSTM, Dense\n",
    "from keras.models import Model\n",
    "import keras.backend as K\n",
    "\n",
    "lstm_units = 256\n",
    "gaussian_mixtures = 5\n",
    "mdn_units = gaussian_mixtures * 3 * z_dim\n",
    "num_epochs = 20\n",
    "\n",
    "def get_mixture_coef(output):\n",
    "    \"\"\"\n",
    "    output should be size of num_mixtures * 3\n",
    "    \"\"\"\n",
    "    pi, sigma, mu = output[:,:160], output[:,160:320], output[:,320:]\n",
    "    \n",
    "    max_pi = K.max(pi, 1, keepdims=True)\n",
    "    pi = pi - max_pi\n",
    "    pi = K.exp(pi)\n",
    "\n",
    "    normalize_pi = 1 / K.sum(pi, 1, keepdims=True)\n",
    "    pi = normalize_pi * pi\n",
    "    \n",
    "    sigma = K.exp(sigma)\n",
    "    \n",
    "    return pi, sigma, mu\n",
    "    \n",
    "one_div_sqrt_2_pi = 1 / math.sqrt(2*math.pi)\n",
    "def pdf(z, mu, sigma):\n",
    "    z = K.tile(z, [1, gaussian_mixtures])\n",
    "    result = z - mu\n",
    "    result = result * 1/sigma\n",
    "    result = -K.square(result)/2\n",
    "    return K.exp(result) * 1/sigma*one_div_sqrt_2_pi\n",
    "\n",
    "def loss(y, output):\n",
    "    z = y[:, :32]\n",
    "    pi, sigma, mu = get_mixture_coef(output)\n",
    "    result = pdf(z, mu, sigma)\n",
    "    result = result * pi\n",
    "    result = K.sum(result, 1, keepdims=True)\n",
    "    result = -K.log(result)\n",
    "    return K.mean(result) \n",
    "    \n",
    "    \n",
    "inputs = Input(shape=(None, input_dim,))\n",
    "lstm = LSTM(lstm_units)(inputs)\n",
    "outputs = Dense(mdn_units, name='rnn_mdn_out')(lstm)\n",
    "\n",
    "rnn = Model(inputs, outputs)\n",
    "\n",
    "rnn.compile('adam', loss)\n",
    "\n",
    "rnn.fit(X, Y)\n",
    "\n",
    "#sess = K.Session()\n",
    "#K.set_session(sess)\n",
    "#    \n",
    "#x = K.placeholder(K.float32, shape=(None, 1, input_dim), name='x')\n",
    "#y = K.placeholder(K.float32, shape=(None, 1, z_dim), name='y')\n",
    "#    \n",
    "#lstm = LSTM(lstm_units)(x)\n",
    "#outputs = Dense(mdn_units, name='rnn_mdn_out')(lstm)\n",
    "#\n",
    "#loss = get_loss(y, outputs)\n",
    "#train_op = K.train.AdamOptimizer().minimize(loss)\n",
    "#\n",
    "#sess.run(K.global_variables_initializer())\n",
    "#\n",
    "#loss_hist = np.zeros(num_epochs)\n",
    "#for i in range(num_epochs):\n",
    "#    sess.run(train_op, feed_dict={x: X, y: Y})\n",
    "#    loss_hist[i] = sess.run(loss, feed_dict={x: X, y: Y})\n",
    "#    print('Epoch %d: %f' % (i, loss_hist[i]))\n",
    "#\n",
    "#sess.close()"
   ]
  },
  {
   "cell_type": "code",
   "execution_count": null,
   "metadata": {
    "collapsed": true
   },
   "outputs": [],
   "source": []
  }
 ],
 "metadata": {
  "kernelspec": {
   "display_name": "Python 3",
   "language": "python",
   "name": "python3"
  },
  "language_info": {
   "codemirror_mode": {
    "name": "ipython",
    "version": 3
   },
   "file_extension": ".py",
   "mimetype": "text/x-python",
   "name": "python",
   "nbconvert_exporter": "python",
   "pygments_lexer": "ipython3",
   "version": "3.6.4"
  }
 },
 "nbformat": 4,
 "nbformat_minor": 2
}
